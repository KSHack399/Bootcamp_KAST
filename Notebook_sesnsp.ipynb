{
 "cells": [
  {
   "cell_type": "code",
   "execution_count": 3,
   "metadata": {},
   "outputs": [
    {
     "name": "stderr",
     "output_type": "stream",
     "text": [
      "Downloading...\n",
      "From: https://drive.google.com/uc?id=1HXIrs-7gHOKK0klmJKwUgmiZSUAlfWat\n",
      "To: c:\\Users\\Karen\\OneDrive\\Documentos\\Bootcamp_AD\\Incidencia_delictiva\\incidencia_dic24.csv\n",
      "100%|██████████| 4.17M/4.17M [00:00<00:00, 12.8MB/s]"
     ]
    },
    {
     "name": "stdout",
     "output_type": "stream",
     "text": [
      "Archivo descargado con éxito\n"
     ]
    },
    {
     "name": "stderr",
     "output_type": "stream",
     "text": [
      "\n"
     ]
    }
   ],
   "source": [
    "import gdown\n",
    "\n",
    "# ID del archivo en Google Drive\n",
    "file_id = '1HXIrs-7gHOKK0klmJKwUgmiZSUAlfWat'\n",
    "\n",
    "# Construir la URL de descarga directa\n",
    "url = f'https://drive.google.com/uc?id={file_id}'\n",
    "\n",
    "# Descargar el archivo\n",
    "output = 'incidencia_dic24.csv'  # Cambia el nombre de archivo según el tipo de archivo\n",
    "gdown.download(url, output, quiet=False)\n",
    "\n",
    "print('Archivo descargado con éxito')\n"
   ]
  },
  {
   "cell_type": "code",
   "execution_count": 4,
   "metadata": {},
   "outputs": [],
   "source": [
    "import pandas as pd\n",
    "\n",
    "# Cargar el archivo CSV\n",
    "df = pd.read_csv('incidencia_dic24.csv', index_col=False, sep=',', encoding='latin-1')\n",
    "\n",
    "# Guardar el archivo como Excel\n",
    "df.to_excel('incidencia_dic24.xlsx', index=False, header=1, engine='openpyxl')\n"
   ]
  },
  {
   "cell_type": "code",
   "execution_count": 5,
   "metadata": {},
   "outputs": [],
   "source": [
    "#Obtener la sumatoria de la incidencia delictiva\n",
    "df['Total'] = df[['Enero', 'Febrero', 'Marzo', 'Abril', 'Mayo', 'Junio', 'Julio', 'Agosto', 'Septiembre', 'Octubre', 'Noviembre', 'Diciembre']].sum(axis=1)\n",
    "\n",
    "df.to_excel('incidencia_dic24_total.xlsx', index=False, header=1, engine='openpyxl')"
   ]
  },
  {
   "cell_type": "code",
   "execution_count": 6,
   "metadata": {},
   "outputs": [],
   "source": [
    "#Obtener el total de delitos registrados en CI por entidad, subtipo de delito y año\n",
    "df_selec = df[['Año','Entidad','Subtipo de delito','Total']]\n",
    "\n",
    "df_summarize = df_selec.groupby(['Año','Entidad','Subtipo de delito']).sum().reset_index()\n",
    "df_summarize.to_excel('incidencia_delictiva_dic24.xlsx', index=False)"
   ]
  },
  {
   "cell_type": "code",
   "execution_count": 11,
   "metadata": {},
   "outputs": [],
   "source": [
    "#Obtener los valores para los años 2023 y 2024\n",
    "df_change = df_summarize[df_summarize['Año'].isin([2023, 2024])].reset_index"
   ]
  }
 ],
 "metadata": {
  "kernelspec": {
   "display_name": "env",
   "language": "python",
   "name": "python3"
  },
  "language_info": {
   "codemirror_mode": {
    "name": "ipython",
    "version": 3
   },
   "file_extension": ".py",
   "mimetype": "text/x-python",
   "name": "python",
   "nbconvert_exporter": "python",
   "pygments_lexer": "ipython3",
   "version": "3.10.7"
  }
 },
 "nbformat": 4,
 "nbformat_minor": 2
}
